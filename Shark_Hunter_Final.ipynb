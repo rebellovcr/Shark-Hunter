{
  "nbformat": 4,
  "nbformat_minor": 0,
  "metadata": {
    "colab": {
      "provenance": [],
      "authorship_tag": "ABX9TyN5jntC/p5+4KKJzhjhPq4j",
      "include_colab_link": true
    },
    "kernelspec": {
      "name": "python3",
      "display_name": "Python 3"
    },
    "language_info": {
      "name": "python"
    }
  },
  "cells": [
    {
      "cell_type": "markdown",
      "metadata": {
        "id": "view-in-github",
        "colab_type": "text"
      },
      "source": [
        "<a href=\"https://colab.research.google.com/github/rebellovcr/Shark-Hunter/blob/main/Shark_Hunter_Final.ipynb\" target=\"_parent\"><img src=\"https://colab.research.google.com/assets/colab-badge.svg\" alt=\"Open In Colab\"/></a>"
      ]
    },
    {
      "cell_type": "code",
      "source": [
        "import os\n",
        "import requests\n",
        "import zipfile\n",
        "import datetime\n",
        "from tqdm import tqdm  # Import tqdm for progress bar\n",
        "\n",
        "def get_date_input():\n",
        "    while True:\n",
        "        input_date = input(\"Digite a data no formato DD-MM-AAAA: \")\n",
        "        try:\n",
        "            datetime.datetime.strptime(input_date, \"%d-%m-%Y\")\n",
        "            return input_date\n",
        "        except ValueError:\n",
        "            print(\"Formato de data inválido. Digite novamente.\")\n",
        "\n",
        "def download_file_with_progress(url, save_path):\n",
        "    with requests.get(url, stream=True) as r:\n",
        "        total_size_in_bytes = int(r.headers.get('content-length', 0))\n",
        "        block_size = 1024  # 1 Kibibyte\n",
        "        progress_bar = tqdm(total=total_size_in_bytes, unit='iB', unit_scale=True)\n",
        "        with open(save_path, 'wb') as f:\n",
        "            for chunk in r.iter_content(chunk_size=block_size):\n",
        "                progress_bar.update(len(chunk))\n",
        "                f.write(chunk)\n",
        "        progress_bar.close()\n",
        "\n",
        "def extract_zip_with_progress(zip_file, extract_dir):\n",
        "    with zipfile.ZipFile(zip_file, 'r') as zip_ref:\n",
        "        file_list = zip_ref.namelist()\n",
        "        for file in tqdm(file_list, desc='Extracting', unit='files'):\n",
        "            zip_ref.extract(file, extract_dir)\n",
        "\n",
        "def filter_and_rewrite_file(input_file):\n",
        "    temp_file = input_file + \".tmp\"\n",
        "    total_lines = sum(1 for line in open(input_file, 'r', encoding='utf-8'))  # Count total lines in the original file\n",
        "\n",
        "    header_line = \"Ativo;Valor;Quantidade;Hora;Data;Comprador;Vendedor;Valor Total da Transação\\n\"\n",
        "\n",
        "    with open(input_file, 'r', encoding='utf-8') as infile, open(temp_file, 'w', encoding='utf-8') as outfile:\n",
        "        outfile.write(header_line)  # Write header line\n",
        "\n",
        "        progress_bar = tqdm(total=total_lines, desc='Filtrando', unit=' linhas')\n",
        "\n",
        "        for line in infile:\n",
        "            columns = line.strip().split(';')\n",
        "            if len(columns) >= 9:\n",
        "                try:\n",
        "                    if float(columns[4].replace(',', '.')) >= 100000:\n",
        "                        # Remove the first, third, seventh, and eighth elements from columns list\n",
        "                        del columns[0]  # Remove first element\n",
        "                        del columns[1]  # After first removal, third element is now at index 1\n",
        "                        del columns[4]  # After removal of previous elements, seventh element is now at index 5\n",
        "                        del columns[4]  # After removal of previous elements, eighth element is now at index 5\n",
        "\n",
        "                        # Calculate the product of the second and third elements\n",
        "                        second_element = float(columns[1].replace(',', '.'))\n",
        "                        third_element = float(columns[2].replace(',', '.'))\n",
        "                        product = second_element * third_element\n",
        "\n",
        "                        # Format the product with point as thousands separator and comma as decimal separator\n",
        "                        formatted_product = \"{:,.2f}\".format(product)\n",
        "\n",
        "                        # Replace format to Brazilian standard (1.000,00 for thousand, 10.000,00 for ten thousand, etc.)\n",
        "                        formatted_product = formatted_product.replace('.', 'temp').replace(',', '.').replace('temp', ',')\n",
        "\n",
        "                        # Append the formatted product as the last element\n",
        "                        columns.append(formatted_product)\n",
        "\n",
        "                        # Join columns back into a line and write to outfile\n",
        "                        outfile.write(';'.join(columns) + '\\n')\n",
        "                except (ValueError, IndexError):\n",
        "                    pass  # If not a valid number or not enough elements, do not write\n",
        "\n",
        "            progress_bar.update(1)  # Update progress bar for each line processed\n",
        "\n",
        "        progress_bar.close()\n",
        "\n",
        "    os.remove(input_file)\n",
        "    os.rename(temp_file, input_file)\n",
        "\n",
        "def main():\n",
        "    input_date = get_date_input()\n",
        "    split_date = input_date.split('-')\n",
        "    url_date_format = f\"{split_date[2]}-{split_date[1]}-{split_date[0]}\"\n",
        "\n",
        "    url = f\"https://arquivos.b3.com.br/apinegocios/tickercsv/{url_date_format}.zip\"\n",
        "    current_directory = os.getcwd()\n",
        "    zip_file_path = os.path.join(current_directory, f\"{url_date_format}.zip\")\n",
        "\n",
        "    print(\"Baixando arquivo ZIP...\")\n",
        "    download_file_with_progress(url, zip_file_path)\n",
        "    print(f\"Arquivo ZIP baixado com sucesso: {os.path.basename(zip_file_path)}\")\n",
        "\n",
        "    print(\"Extraindo arquivo ZIP...\")\n",
        "    extract_zip_with_progress(zip_file_path, current_directory)\n",
        "    print(f\"Arquivo ZIP extraído para: {current_directory}\")\n",
        "\n",
        "    os.remove(zip_file_path)\n",
        "    print(f\"Arquivo ZIP deletado: {os.path.basename(zip_file_path)}\")\n",
        "\n",
        "    input_file = f\"{input_date}_NEGOCIOSAVISTA.txt\"\n",
        "    filter_and_rewrite_file(input_file)\n",
        "\n",
        "    print(f\"Filtro aplicado e arquivo {input_file} atualizado com sucesso.\")\n",
        "\n",
        "if __name__ == \"__main__\":\n",
        "    main()\n"
      ],
      "metadata": {
        "colab": {
          "base_uri": "https://localhost:8080/"
        },
        "id": "QEfptibjfqqK",
        "outputId": "14d40734-05e1-439f-8ce8-ee1b88c004d3"
      },
      "execution_count": 3,
      "outputs": [
        {
          "output_type": "stream",
          "name": "stdout",
          "text": [
            "Digite a data no formato DD-MM-AAAA: 15-07-2024\n",
            "Baixando arquivo ZIP...\n"
          ]
        },
        {
          "output_type": "stream",
          "name": "stderr",
          "text": [
            "100%|██████████| 70.2M/70.2M [00:08<00:00, 8.13MiB/s]\n"
          ]
        },
        {
          "output_type": "stream",
          "name": "stdout",
          "text": [
            "Arquivo ZIP baixado com sucesso: 2024-07-15.zip\n",
            "Extraindo arquivo ZIP...\n"
          ]
        },
        {
          "output_type": "stream",
          "name": "stderr",
          "text": [
            "Extracting: 100%|██████████| 1/1 [00:03<00:00,  3.84s/files]\n"
          ]
        },
        {
          "output_type": "stream",
          "name": "stdout",
          "text": [
            "Arquivo ZIP extraído para: /content\n",
            "Arquivo ZIP deletado: 2024-07-15.zip\n"
          ]
        },
        {
          "output_type": "stream",
          "name": "stderr",
          "text": [
            "Filtrando: 100%|██████████| 8260069/8260069 [00:09<00:00, 917336.41 linhas/s] "
          ]
        },
        {
          "output_type": "stream",
          "name": "stdout",
          "text": [
            "Filtro aplicado e arquivo 15-07-2024_NEGOCIOSAVISTA.txt atualizado com sucesso.\n"
          ]
        },
        {
          "output_type": "stream",
          "name": "stderr",
          "text": [
            "\n"
          ]
        }
      ]
    }
  ]
}