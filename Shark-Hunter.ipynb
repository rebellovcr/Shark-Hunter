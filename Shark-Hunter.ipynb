{
  "cells": [
    {
      "cell_type": "markdown",
      "metadata": {
        "id": "view-in-github",
        "colab_type": "text"
      },
      "source": [
        "<a href=\"https://colab.research.google.com/github/rebellovcr/Shark-Hunter/blob/main/Shark-Hunter.ipynb\" target=\"_parent\"><img src=\"https://colab.research.google.com/assets/colab-badge.svg\" alt=\"Open In Colab\"/></a>"
      ]
    },
    {
      "cell_type": "code",
      "source": [
        "import os\n",
        "import requests\n",
        "import zipfile\n",
        "import datetime\n",
        "from tqdm import tqdm  # Import tqdm for progress bar\n",
        "\n",
        "def get_date_input():\n",
        "    while True:\n",
        "        input_date = input(\"Digite a data no formato DD-MM-AAAA: \")\n",
        "        try:\n",
        "            datetime.datetime.strptime(input_date, \"%d-%m-%Y\")\n",
        "            return input_date\n",
        "        except ValueError:\n",
        "            print(\"Formato de data inválido. Digite novamente.\")\n",
        "\n",
        "def download_file_with_progress(url, save_path):\n",
        "    with requests.get(url, stream=True) as r:\n",
        "        total_size_in_bytes = int(r.headers.get('content-length', 0))\n",
        "        block_size = 1024  # 1 Kibibyte\n",
        "        progress_bar = tqdm(total=total_size_in_bytes, unit='iB', unit_scale=True)\n",
        "        with open(save_path, 'wb') as f:\n",
        "            for chunk in r.iter_content(chunk_size=block_size):\n",
        "                progress_bar.update(len(chunk))\n",
        "                f.write(chunk)\n",
        "        progress_bar.close()\n",
        "\n",
        "def extract_zip_with_progress(zip_file, extract_dir):\n",
        "    with zipfile.ZipFile(zip_file, 'r') as zip_ref:\n",
        "        file_list = zip_ref.namelist()\n",
        "        for file in tqdm(file_list, desc='Extracting', unit='files'):\n",
        "            zip_ref.extract(file, extract_dir)\n",
        "\n",
        "def filter_and_rewrite_file(input_file):\n",
        "    temp_file = input_file + \".tmp\"\n",
        "    total_lines = sum(1 for line in open(input_file, 'r'))  # Count total lines in the original file\n",
        "\n",
        "    with open(input_file, 'r') as infile, open(temp_file, 'w') as outfile:\n",
        "        progress_bar = tqdm(total=total_lines, desc='Filtrando', unit=' linhas')\n",
        "\n",
        "        for line in infile:\n",
        "            columns = line.strip().split(';')\n",
        "            if len(columns) >= 5:\n",
        "                try:\n",
        "                    if float(columns[4].replace(',', '.')) >= 100000:\n",
        "                        outfile.write(line)\n",
        "                except ValueError:\n",
        "                    pass  # Caso não seja um número válido ou a quinta coluna não exista ou seja inválida, não escreva\n",
        "\n",
        "            progress_bar.update(1)  # Update progress bar for each line processed\n",
        "\n",
        "        progress_bar.close()\n",
        "\n",
        "    os.remove(input_file)\n",
        "    os.rename(temp_file, input_file)\n",
        "\n",
        "def main():\n",
        "    input_date = get_date_input()\n",
        "    split_date = input_date.split('-')\n",
        "    url_date_format = f\"{split_date[2]}-{split_date[1]}-{split_date[0]}\"\n",
        "\n",
        "    url = f\"https://arquivos.b3.com.br/apinegocios/tickercsv/{url_date_format}.zip\"\n",
        "    current_directory = os.getcwd()\n",
        "    zip_file_path = os.path.join(current_directory, f\"{url_date_format}.zip\")\n",
        "\n",
        "    print(\"Baixando arquivo ZIP...\")\n",
        "    download_file_with_progress(url, zip_file_path)\n",
        "    print(f\"Arquivo ZIP baixado com sucesso: {os.path.basename(zip_file_path)}\")\n",
        "\n",
        "    print(\"Extraindo arquivo ZIP...\")\n",
        "    extract_zip_with_progress(zip_file_path, current_directory)\n",
        "    print(f\"Arquivo ZIP extraído para: {current_directory}\")\n",
        "\n",
        "    os.remove(zip_file_path)\n",
        "    print(f\"Arquivo ZIP deletado: {os.path.basename(zip_file_path)}\")\n",
        "\n",
        "    input_file = f\"{input_date}_NEGOCIOSAVISTA.txt\"\n",
        "    filter_and_rewrite_file(input_file)\n",
        "\n",
        "    print(f\"Filtro aplicado e arquivo {input_file} atualizado com sucesso.\")\n",
        "\n",
        "if __name__ == \"__main__\":\n",
        "    main()\n"
      ],
      "metadata": {
        "id": "_oaSRVzrUKe_"
      },
      "execution_count": null,
      "outputs": []
    }
  ],
  "metadata": {
    "colab": {
      "name": "Olá, este é o Colaboratory",
      "provenance": [],
      "include_colab_link": true
    },
    "kernelspec": {
      "display_name": "Python 3",
      "name": "python3"
    }
  },
  "nbformat": 4,
  "nbformat_minor": 0
}